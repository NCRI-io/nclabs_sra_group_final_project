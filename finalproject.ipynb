{
 "cells": [
  {
   "cell_type": "code",
   "execution_count": 3,
   "id": "3cbf0b8a-a134-4499-8bde-8116433cbb92",
   "metadata": {},
   "outputs": [
    {
     "data": {
      "text/plain": [
       "{'created_at': 'Tue Jul 20 01:34:18 +0000 2021',\n",
       " 'full_text': \"It in fact does. Funny how some things just aren't that complicated\",\n",
       " 'id': 1417296777623982080,\n",
       " 'user': {'screen_name': 'westLA_sra', 'id': 1237154041919983616}}"
      ]
     },
     "execution_count": 3,
     "metadata": {},
     "output_type": "execute_result"
    }
   ],
   "source": [
    "import requests\n",
    "import datetime\n",
    "import time\n",
    "import pandas as pd\n",
    "\n",
    "start_time = '15.07.2021 00:00:00'\n",
    "end_time = '15.08.2021 00:00:00'\n",
    "pattern = '%d.%m.%Y %H:%M:%S'\n",
    "july15 = int(time.mktime(time.strptime(start_time, pattern))*1000)\n",
    "aug15 = int(time.mktime(time.strptime(end_time, pattern))*1000)\n",
    "\n",
    "from datetime import datetime, timezone\n",
    "\n",
    "july15 = int(datetime(2021, 7, 15, tzinfo=timezone.utc).timestamp() * 1000)\n",
    "aug15 = int(datetime(2021, 8, 15, tzinfo=timezone.utc).timestamp() * 1000)\n",
    "\n",
    "\n",
    "p = {\"since\":july15,\"until\":aug15,\"size\":2500, \"screen_name\":\"NYC_SocialistRA,PhillySRA,SanDiegoSRA,westLA_sra,maine_sra\",\"sort_type\":\"created_at\", \"sort\":\"asc\", \"filter\":'full_text,id,created_at,user.screen_name,user.id'}\n",
    "response = requests.get('https://tw.pushshift.io/search/tweets', params = p).json()\n",
    "\n",
    "response['data'][0]"
   ]
  },
  {
   "cell_type": "code",
   "execution_count": 4,
   "id": "598ca23a-e2d6-41d8-b3e6-41768a4daf51",
   "metadata": {},
   "outputs": [
    {
     "name": "stdout",
     "output_type": "stream",
     "text": [
      "{'created at': 'Tue Jul 20 01:34:18 +0000 2021', 'fulltext': \"It in fact does. Funny how some things just aren't that complicated\", 'tweet id': 1417296777623982080, 'user id': 1237154041919983616, 'username': 'westLA_sra'}\n",
      "{'created at': 'Tue Jul 20 05:34:24 +0000 2021', 'fulltext': 'Any other job all of these people would be fired immediately', 'tweet id': 1417357200759001090, 'user id': 1129164981394497536, 'username': 'SanDiegoSRA'}\n",
      "{'created at': 'Tue Jul 20 19:23:29 +0000 2021', 'fulltext': 'A new life awaits you in the off-world colonies!\\n\\nThe chance to begin again in a golden land of opportunity and adventure!\\n\\n(Brought to you by the Shimata-Dominguez corporation)', 'tweet id': 1417565844754735107, 'user id': 1129164981394497536, 'username': 'SanDiegoSRA'}\n",
      "{'created at': 'Tue Jul 20 20:47:50 +0000 2021', 'fulltext': 'Most divorced man to ever leave the earths atmosphere', 'tweet id': 1417587073138282498, 'user id': 1129164981394497536, 'username': 'SanDiegoSRA'}\n",
      "{'created at': 'Tue Jul 20 21:24:08 +0000 2021', 'fulltext': 'neat', 'tweet id': 1417596209103994880, 'user id': 1031710573837344769, 'username': 'NYC_SocialistRA'}\n"
     ]
    }
   ],
   "source": [
    "selected_list = list()\n",
    "for tweet in response['data']:\n",
    "    selected_list.append({\"created at\": tweet['created_at'], \n",
    "                          \"fulltext\": tweet['full_text'], \n",
    "                          \"tweet id\": tweet['id'], \n",
    "                          \"user id\": tweet['user']['id'], \n",
    "                          \"username\": tweet['user']['screen_name']\n",
    "                         })\n",
    "    \n",
    "selected_list[0]\n",
    "\n",
    "for string in selected_list[0:5]:\n",
    "    print(string)"
   ]
  },
  {
   "cell_type": "code",
   "execution_count": 5,
   "id": "f14fd702-93d1-470c-8c77-90a186235f9b",
   "metadata": {},
   "outputs": [
    {
     "data": {
      "text/html": [
       "<div>\n",
       "<style scoped>\n",
       "    .dataframe tbody tr th:only-of-type {\n",
       "        vertical-align: middle;\n",
       "    }\n",
       "\n",
       "    .dataframe tbody tr th {\n",
       "        vertical-align: top;\n",
       "    }\n",
       "\n",
       "    .dataframe thead th {\n",
       "        text-align: right;\n",
       "    }\n",
       "</style>\n",
       "<table border=\"1\" class=\"dataframe\">\n",
       "  <thead>\n",
       "    <tr style=\"text-align: right;\">\n",
       "      <th></th>\n",
       "      <th>created at</th>\n",
       "      <th>fulltext</th>\n",
       "      <th>tweet id</th>\n",
       "      <th>user id</th>\n",
       "      <th>username</th>\n",
       "    </tr>\n",
       "  </thead>\n",
       "  <tbody>\n",
       "    <tr>\n",
       "      <th>0</th>\n",
       "      <td>Tue Jul 20 01:34:18 +0000 2021</td>\n",
       "      <td>It in fact does. Funny how some things just ar...</td>\n",
       "      <td>1417296777623982080</td>\n",
       "      <td>1237154041919983616</td>\n",
       "      <td>westLA_sra</td>\n",
       "    </tr>\n",
       "    <tr>\n",
       "      <th>1</th>\n",
       "      <td>Tue Jul 20 05:34:24 +0000 2021</td>\n",
       "      <td>Any other job all of these people would be fir...</td>\n",
       "      <td>1417357200759001090</td>\n",
       "      <td>1129164981394497536</td>\n",
       "      <td>SanDiegoSRA</td>\n",
       "    </tr>\n",
       "    <tr>\n",
       "      <th>2</th>\n",
       "      <td>Tue Jul 20 19:23:29 +0000 2021</td>\n",
       "      <td>A new life awaits you in the off-world colonie...</td>\n",
       "      <td>1417565844754735107</td>\n",
       "      <td>1129164981394497536</td>\n",
       "      <td>SanDiegoSRA</td>\n",
       "    </tr>\n",
       "    <tr>\n",
       "      <th>3</th>\n",
       "      <td>Tue Jul 20 20:47:50 +0000 2021</td>\n",
       "      <td>Most divorced man to ever leave the earths atm...</td>\n",
       "      <td>1417587073138282498</td>\n",
       "      <td>1129164981394497536</td>\n",
       "      <td>SanDiegoSRA</td>\n",
       "    </tr>\n",
       "    <tr>\n",
       "      <th>4</th>\n",
       "      <td>Tue Jul 20 21:24:08 +0000 2021</td>\n",
       "      <td>neat</td>\n",
       "      <td>1417596209103994880</td>\n",
       "      <td>1031710573837344769</td>\n",
       "      <td>NYC_SocialistRA</td>\n",
       "    </tr>\n",
       "    <tr>\n",
       "      <th>...</th>\n",
       "      <td>...</td>\n",
       "      <td>...</td>\n",
       "      <td>...</td>\n",
       "      <td>...</td>\n",
       "      <td>...</td>\n",
       "    </tr>\n",
       "    <tr>\n",
       "      <th>283</th>\n",
       "      <td>Sat Aug 14 17:29:43 +0000 2021</td>\n",
       "      <td>Sounds like a torture method</td>\n",
       "      <td>1426596911394344960</td>\n",
       "      <td>1129164981394497536</td>\n",
       "      <td>SanDiegoSRA</td>\n",
       "    </tr>\n",
       "    <tr>\n",
       "      <th>284</th>\n",
       "      <td>Sat Aug 14 21:53:23 +0000 2021</td>\n",
       "      <td>Narcan training saves lives 💕 Find a class and...</td>\n",
       "      <td>1426663268320432138</td>\n",
       "      <td>1153483528736260101</td>\n",
       "      <td>maine_sra</td>\n",
       "    </tr>\n",
       "    <tr>\n",
       "      <th>285</th>\n",
       "      <td>Sat Aug 14 21:59:44 +0000 2021</td>\n",
       "      <td></td>\n",
       "      <td>1426664865721159680</td>\n",
       "      <td>1153483528736260101</td>\n",
       "      <td>maine_sra</td>\n",
       "    </tr>\n",
       "    <tr>\n",
       "      <th>286</th>\n",
       "      <td>Sat Aug 14 22:03:00 +0000 2021</td>\n",
       "      <td>We’ll retweet whatever needs boosting!</td>\n",
       "      <td>1426665686064144384</td>\n",
       "      <td>1153483528736260101</td>\n",
       "      <td>maine_sra</td>\n",
       "    </tr>\n",
       "    <tr>\n",
       "      <th>287</th>\n",
       "      <td>Sat Aug 14 22:06:23 +0000 2021</td>\n",
       "      <td>https://t.co/W8HKTdRS0v</td>\n",
       "      <td>1426666536886956034</td>\n",
       "      <td>1129164981394497536</td>\n",
       "      <td>SanDiegoSRA</td>\n",
       "    </tr>\n",
       "  </tbody>\n",
       "</table>\n",
       "<p>288 rows × 5 columns</p>\n",
       "</div>"
      ],
      "text/plain": [
       "                         created at  \\\n",
       "0    Tue Jul 20 01:34:18 +0000 2021   \n",
       "1    Tue Jul 20 05:34:24 +0000 2021   \n",
       "2    Tue Jul 20 19:23:29 +0000 2021   \n",
       "3    Tue Jul 20 20:47:50 +0000 2021   \n",
       "4    Tue Jul 20 21:24:08 +0000 2021   \n",
       "..                              ...   \n",
       "283  Sat Aug 14 17:29:43 +0000 2021   \n",
       "284  Sat Aug 14 21:53:23 +0000 2021   \n",
       "285  Sat Aug 14 21:59:44 +0000 2021   \n",
       "286  Sat Aug 14 22:03:00 +0000 2021   \n",
       "287  Sat Aug 14 22:06:23 +0000 2021   \n",
       "\n",
       "                                              fulltext             tweet id  \\\n",
       "0    It in fact does. Funny how some things just ar...  1417296777623982080   \n",
       "1    Any other job all of these people would be fir...  1417357200759001090   \n",
       "2    A new life awaits you in the off-world colonie...  1417565844754735107   \n",
       "3    Most divorced man to ever leave the earths atm...  1417587073138282498   \n",
       "4                                                 neat  1417596209103994880   \n",
       "..                                                 ...                  ...   \n",
       "283                       Sounds like a torture method  1426596911394344960   \n",
       "284  Narcan training saves lives 💕 Find a class and...  1426663268320432138   \n",
       "285                                                     1426664865721159680   \n",
       "286             We’ll retweet whatever needs boosting!  1426665686064144384   \n",
       "287                            https://t.co/W8HKTdRS0v  1426666536886956034   \n",
       "\n",
       "                 user id         username  \n",
       "0    1237154041919983616       westLA_sra  \n",
       "1    1129164981394497536      SanDiegoSRA  \n",
       "2    1129164981394497536      SanDiegoSRA  \n",
       "3    1129164981394497536      SanDiegoSRA  \n",
       "4    1031710573837344769  NYC_SocialistRA  \n",
       "..                   ...              ...  \n",
       "283  1129164981394497536      SanDiegoSRA  \n",
       "284  1153483528736260101        maine_sra  \n",
       "285  1153483528736260101        maine_sra  \n",
       "286  1153483528736260101        maine_sra  \n",
       "287  1129164981394497536      SanDiegoSRA  \n",
       "\n",
       "[288 rows x 5 columns]"
      ]
     },
     "execution_count": 5,
     "metadata": {},
     "output_type": "execute_result"
    }
   ],
   "source": [
    "df = pd.DataFrame(selected_list)\n",
    "df"
   ]
  },
  {
   "cell_type": "code",
   "execution_count": 35,
   "id": "a3fc4c1e-06df-49f2-9796-43220c96b0b5",
   "metadata": {
    "tags": []
   },
   "outputs": [
    {
     "data": {
      "image/png": "[encoded data removed]",
      "text/plain": [
       "<Figure size 432x288 with 1 Axes>"
      ]
     },
     "metadata": {
      "needs_background": "light"
     },
     "output_type": "display_data"
    }
   ],
   "source": [
    "textarray = list()\n",
    "\n",
    "for x in response['data']:\n",
    "    textarray.append(x['full_text'])\n",
    "    \n",
    "query1 = sum('police' in s for s in textarray)\n",
    "query2 = sum('gun' in s for s in textarray)\n",
    "query3 = sum('donate' in s for s in textarray)\n",
    "query4 = sum('white' in s for s in textarray)\n",
    "query5 = sum('supremacy' in s for s in textarray)\n",
    "query6 = sum('revolution' in s for s in textarray)\n",
    "query7 = sum('diversity' in s for s in textarray)\n",
    "\n",
    "import matplotlib.pyplot as plt\n",
    "fig = plt.figure()\n",
    "ax = fig.add_axes([0,0,1,1])\n",
    "queries = ['police', 'gun', 'donate', 'white', 'supremacy', 'revolution', 'diversity']\n",
    "tally = [query1, query2, query3, query4, query5, query6, query7]\n",
    "ax.bar(queries, tally)\n",
    "plt.show()"
   ]
  },
  {
   "cell_type": "code",
   "execution_count": null,
   "id": "dd889b0c-ac33-41bc-8c2e-52b546e8620f",
   "metadata": {},
   "outputs": [],
   "source": []
  }
 ],
 "metadata": {
  "kernelspec": {
   "display_name": "Python 3",
   "language": "python",
   "name": "python3"
  },
  "language_info": {
   "codemirror_mode": {
    "name": "ipython",
    "version": 3
   },
   "file_extension": ".py",
   "mimetype": "text/x-python",
   "name": "python",
   "nbconvert_exporter": "python",
   "pygments_lexer": "ipython3",
   "version": "3.8.8"
  }
 },
 "nbformat": 4,
 "nbformat_minor": 5
}
