{
 "cells": [
  {
   "cell_type": "code",
   "execution_count": 21,
   "id": "d3937865-2fc2-4e66-9e02-f9ef7a1ceee2",
   "metadata": {},
   "outputs": [
    {
     "data": {
      "text/plain": [
       "{'data': [],\n",
       " 'metadata': {'took': 59,\n",
       "  'timed_out': False,\n",
       "  '_shards': {'total': 168, 'successful': 168, 'skipped': 162, 'failed': 0}},\n",
       " 'query': {'query': {'bool': {'must': [{'range': {'created_at': {'gte': 1625356800000}}},\n",
       "     {'range': {'created_at': {'lt': 1626566400000}}},\n",
       "     {'bool': {'minimum_should_match': 1,\n",
       "       'should': [{'match': {'user.screen_name': 'NYC_SocialistRA'}},\n",
       "        {'match': {'user.screen_name': 'PhillySRA'}},\n",
       "        {'match': {'user.screen_name': 'SanDiegoSRA'}},\n",
       "        {'match': {'user.screen_name': 'westLA_sra'}},\n",
       "        {'match': {'user.screen_name': 'maine_sra'}}]}}],\n",
       "    'should': []}},\n",
       "  'aggs': {},\n",
       "  'track_total_hits': False,\n",
       "  'sort': {'created_at': 'asc'},\n",
       "  'size': 2500}}"
      ]
     },
     "execution_count": 21,
     "metadata": {},
     "output_type": "execute_result"
    }
   ],
   "source": [
    "import requests\n",
    "import datetime\n",
    "import time\n",
    "import pandas as pd\n",
    "\n",
    "start_time = '04.07.2021 00:00:00'\n",
    "end_time = '17.07.2021 00:00:00'\n",
    "pattern = '%d.%m.%Y %H:%M:%S'\n",
    "july4 = int(time.mktime(time.strptime(start_time, pattern))*1000)\n",
    "july18 = int(time.mktime(time.strptime(end_time, pattern))*1000)\n",
    "\n",
    "from datetime import datetime, timezone\n",
    "\n",
    "july4 = int(datetime(2021, 7, 4, tzinfo=timezone.utc).timestamp() * 1000)\n",
    "july18 = int(datetime(2021, 7, 18, tzinfo=timezone.utc).timestamp() * 1000)\n",
    "\n",
    "\n",
    "p = {\"since\":july4,\"until\":july18,\"size\":2500, \"screen_name\":\"NYC_SocialistRA,PhillySRA,SanDiegoSRA,westLA_sra,maine_sra\",\"sort_type\":\"created_at\", \"sort\":\"asc\", \"filter\":'full_text,id,created_at,user.screen_name,user.id'}\n",
    "response = requests.get('https://tw.pushshift.io/search/tweets', params = p).json()\n",
    "\n",
    "response\n"
   ]
  },
  {
   "cell_type": "code",
   "execution_count": 18,
   "id": "6e0950a9-c75c-406e-87d8-1b13e5fe4272",
   "metadata": {},
   "outputs": [],
   "source": []
  },
  {
   "cell_type": "code",
   "execution_count": 19,
   "id": "5e2e3878-1f6d-43d0-a77c-42ff86c1ea7c",
   "metadata": {
    "tags": []
   },
   "outputs": [
    {
     "data": {
      "text/html": [
       "<div>\n",
       "<style scoped>\n",
       "    .dataframe tbody tr th:only-of-type {\n",
       "        vertical-align: middle;\n",
       "    }\n",
       "\n",
       "    .dataframe tbody tr th {\n",
       "        vertical-align: top;\n",
       "    }\n",
       "\n",
       "    .dataframe thead th {\n",
       "        text-align: right;\n",
       "    }\n",
       "</style>\n",
       "<table border=\"1\" class=\"dataframe\">\n",
       "  <thead>\n",
       "    <tr style=\"text-align: right;\">\n",
       "      <th></th>\n",
       "    </tr>\n",
       "  </thead>\n",
       "  <tbody>\n",
       "  </tbody>\n",
       "</table>\n",
       "</div>"
      ],
      "text/plain": [
       "Empty DataFrame\n",
       "Columns: []\n",
       "Index: []"
      ]
     },
     "execution_count": 19,
     "metadata": {},
     "output_type": "execute_result"
    }
   ],
   "source": []
  },
  {
   "cell_type": "code",
   "execution_count": null,
   "id": "8786f0a6-0821-46bc-b09f-528612caa8c4",
   "metadata": {},
   "outputs": [],
   "source": []
  }
 ],
 "metadata": {
  "kernelspec": {
   "display_name": "Python 3",
   "language": "python",
   "name": "python3"
  },
  "language_info": {
   "codemirror_mode": {
    "name": "ipython",
    "version": 3
   },
   "file_extension": ".py",
   "mimetype": "text/x-python",
   "name": "python",
   "nbconvert_exporter": "python",
   "pygments_lexer": "ipython3",
   "version": "3.8.8"
  }
 },
 "nbformat": 4,
 "nbformat_minor": 5
}
